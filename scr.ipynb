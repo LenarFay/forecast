import requests     # Перед работой необходимо выполнить pip install requests. Библиотека для запроса к OWM
import time         # Библотека для перевода времени из UNIX в человекочитаемый





def howItFeels (city):
    diff=100
    date=0
    s_city = city
    appid = "3bed058ea91070171ef36b6964eb2715"
    try:
        res = requests.get("http://api.openweathermap.org/data/2.5/forecast",
            params={'q': s_city, 'units': 'metric', 'lang': 'ru', 'APPID': appid})
        data = res.json()
        for i in data['list']:
            if abs(abs(i['main']['feels_like'])-abs(i['main']['temp']))<diff:
                diff=abs(abs(i['main']['feels_like'])-abs(i['main']['temp']))
                date=i['dt_txt']
        print ('Разница, °С:{},Дата и время:{}'.format(diff,date,)) 
        
    except Exception as e:
        print("Exception (howItFeels):", e)
    

def daylight (city):
    s_city = city
    appid = "3bed058ea91070171ef36b6964eb2715"
    try:
        res = requests.get("http://api.openweathermap.org/data/2.5/forecast",       # Проблема с запросом. .../forecast дает значения восхода и заката только текущего дня. 
                                                                                    # Запрос /forecast/daily, кажется требует подписки. 
                           params={'q': s_city, 'units': 'metric', 'lang': 'ru', 'APPID': appid})
        data = res.json()
        riseH=int(time.strftime("%H:%M:%S", time.localtime(data['city']['sunrise'])).split(':')[0])
        riseM=int(time.strftime("%H:%M:%S", time.localtime(data['city']['sunrise'])).split(':')[1])
        riseS=int(time.strftime("%H:%M:%S", time.localtime(data['city']['sunrise'])).split(':')[2])             # Перевод времени из UNIX в человекочитаемый
        setH=int(time.strftime("%H:%M:%S", time.localtime(data['city']['sunset'])).split(':')[0])
        setM=int(time.strftime("%H:%M:%S", time.localtime(data['city']['sunset'])).split(':')[1])
        setS=int(time.strftime("%H:%M:%S", time.localtime(data['city']['sunset'])).split(':')[2])
        
        plusMin = 60 - riseM
        plusSec = 60 - riseS
        
        daylightSec=setS + plusSec
        daylightMin=setM + plusMin
        if daylightSec >= 60:
            daylightSec = daylightSec - 60
            daylightMin = daylightMin + 1
        if daylightMin >= 60:
            daylightMin=daylightMin - 60
            daylightH = setH - riseH
        else: daylightH = setH-riseH - 1
        
       
        print ('Световой день:{}:{}:{}'.format(daylightH,daylightMin,daylightSec))
        
        
        print(time.strftime("%H:%M:%S", time.localtime(data['city']['sunrise'])))
        print(time.strftime("%H:%M:%S", time.localtime(data['city']['sunset'])))
        
       
    except Exception as e:
        print("Exception (daylight):", e)
        
        
    daylight("Moscow,RU")
        
